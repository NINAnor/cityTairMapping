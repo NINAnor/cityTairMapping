{
  "nbformat": 4,
  "nbformat_minor": 0,
  "metadata": {
    "colab": {
      "name": "Netatmo_template.ipynb",
      "provenance": [],
      "collapsed_sections": []
    },
    "kernelspec": {
      "name": "python3",
      "display_name": "Python 3"
    }
  },
  "cells": [
    {
      "cell_type": "markdown",
      "metadata": {
        "id": "hlnjSnUhVefK",
        "colab_type": "text"
      },
      "source": [
        "**Collect historical data from Netatmo weather stations**"
      ]
    },
    {
      "cell_type": "markdown",
      "metadata": {
        "id": "tMDPJ0hrVoH7",
        "colab_type": "text"
      },
      "source": [
        "This notebook steps through the process of fetching climatic data from a network of private weather stations produced by Netatmo: https://dev.netatmo.com/en-US\n",
        "\n",
        "First you need to install a handy python API. See source here: https://gitlab.com/nobodyinperson/python3-patatmo"
      ]
    },
    {
      "cell_type": "code",
      "metadata": {
        "id": "P6LrGaiMv2ZH",
        "colab_type": "code",
        "colab": {}
      },
      "source": [
        "!pip install -U -q patatmo"
      ],
      "execution_count": 0,
      "outputs": []
    },
    {
      "cell_type": "markdown",
      "metadata": {
        "id": "EbdD5_naV9jB",
        "colab_type": "text"
      },
      "source": [
        "Now import it into the runtime along with pandas and other libraries for dataframe management later on."
      ]
    },
    {
      "cell_type": "code",
      "metadata": {
        "id": "ib7Qn5KF1a_j",
        "colab_type": "code",
        "colab": {}
      },
      "source": [
        "import patatmo as patatmo\n",
        "import pandas as pd\n",
        "import numpy as np\n",
        "from time import sleep\n",
        "import datetime"
      ],
      "execution_count": 0,
      "outputs": []
    },
    {
      "cell_type": "markdown",
      "metadata": {
        "id": "AN_Yuw5xXVRD",
        "colab_type": "text"
      },
      "source": [
        "The next set-up step is to import the library to mount your Google Drive to the Colab runtime. Follow the authentication link and copy the auth code back into the space below and hit enter."
      ]
    },
    {
      "cell_type": "markdown",
      "metadata": {
        "id": "TLV1nBEYZjvT",
        "colab_type": "text"
      },
      "source": [
        "You can skip this for debugging loop below..."
      ]
    },
    {
      "cell_type": "code",
      "metadata": {
        "id": "_Qh5F-BcXUWf",
        "colab_type": "code",
        "colab": {}
      },
      "source": [
        "from google.colab import drive\n",
        "drive.mount('drive')"
      ],
      "execution_count": 0,
      "outputs": []
    },
    {
      "cell_type": "markdown",
      "metadata": {
        "id": "y7ryTwTqWJMI",
        "colab_type": "text"
      },
      "source": [
        "You will need to first register an account with Netatmo in order to authenticate to the API. Once you have done so, fill in your deails below and run."
      ]
    },
    {
      "cell_type": "code",
      "metadata": {
        "id": "CxjGk0UpwHRV",
        "colab_type": "code",
        "colab": {}
      },
      "source": [
        "# your patatmo connect developer credentials\n",
        "credentials = {\n",
        "    \"password\":\"xxxxxxxxxx\",\n",
        "    \"username\":\"xxxxxxxxxxxxx\",\n",
        "    \"client_id\":\"xxxxxxxxxxxxx\",\n",
        "    \"client_secret\":\"xxxxxxxxxxxxxxxxx\"\n",
        "}\n",
        "# create an api client\n",
        "client = patatmo.api.client.NetatmoClient()\n",
        "\n",
        "# tell the client's authentication your credentials\n",
        "client.authentication.credentials = credentials"
      ],
      "execution_count": 0,
      "outputs": []
    },
    {
      "cell_type": "markdown",
      "metadata": {
        "id": "SFVR5lklWZ-x",
        "colab_type": "text"
      },
      "source": [
        "Define a region for which you would like to collect data and issue the API request. Print out the length - i.e. the number of stations in your AOI."
      ]
    },
    {
      "cell_type": "code",
      "metadata": {
        "id": "uSJ-NU_u_2DU",
        "colab_type": "code",
        "outputId": "deda9151-9f2f-4070-81a6-7420ca4bd3d0",
        "colab": {
          "base_uri": "https://localhost:8080/",
          "height": 34
        }
      },
      "source": [
        "# lat/lon outline of Oslo\n",
        "region = {\n",
        "    \"lat_ne\" : 60.001,\n",
        "    \"lat_sw\" : 59.83,\n",
        "    \"lon_ne\" : 10.867,\n",
        "    \"lon_sw\" : 10.458,\n",
        "}\n",
        "# issue the API request\n",
        "output = client.Getpublicdata(region = region, filter=True)\n",
        "output\n",
        "len(output.response[\"body\"])"
      ],
      "execution_count": 0,
      "outputs": [
        {
          "output_type": "execute_result",
          "data": {
            "text/plain": [
              "642"
            ]
          },
          "metadata": {
            "tags": []
          },
          "execution_count": 10
        }
      ]
    },
    {
      "cell_type": "markdown",
      "metadata": {
        "id": "-4f-XeQwT6QL",
        "colab_type": "text"
      },
      "source": [
        "Print the output out to inspect how data is stored."
      ]
    },
    {
      "cell_type": "code",
      "metadata": {
        "id": "gZFo925cS_3d",
        "colab_type": "code",
        "colab": {}
      },
      "source": [
        "output.response[\"body\"]"
      ],
      "execution_count": 0,
      "outputs": []
    },
    {
      "cell_type": "markdown",
      "metadata": {
        "id": "f5Ns2T1cT-YL",
        "colab_type": "text"
      },
      "source": [
        "Loop through the output to store the station IDs and lat lon locations in a dataframe for reference. You can export this to Drive for future reference if you like."
      ]
    },
    {
      "cell_type": "code",
      "metadata": {
        "id": "uvHDp1Xdo-b8",
        "colab_type": "code",
        "colab": {}
      },
      "source": [
        "stations = output.response[\"body\"]\n",
        "\n",
        "lat = stations[0][\"place\"][\"location\"][0]\n",
        "lon = stations[0][\"place\"][\"location\"][1]\n",
        "device = stations[0][\"_id\"]\n",
        "module_id = tuple(stations[0][\"measures\"].keys())[0]\n",
        "index = 0\n",
        "df = pd.DataFrame(np.array([[lat, lon, device,module_id, index]]), columns=['Lon', 'Lat', 'ID','moduleID', 'index'])\n",
        "\n",
        "for i in range(1,len(stations)):\n",
        "  lat = stations[i][\"place\"][\"location\"][0]\n",
        "  lon = stations[i][\"place\"][\"location\"][1]\n",
        "  device = stations[i][\"_id\"]\n",
        "  module_id = tuple(stations[i][\"measures\"].keys())[0]\n",
        "  new = pd.DataFrame(np.array([[lat, lon, device, module_id,i]]), columns=['Lon', 'Lat', 'ID','moduleID', 'index'])\n",
        "  \n",
        "  df = df.append(new)\n",
        "df"
      ],
      "execution_count": 0,
      "outputs": []
    },
    {
      "cell_type": "markdown",
      "metadata": {
        "id": "3wzvLcKgWyx9",
        "colab_type": "text"
      },
      "source": [
        "Test out the API request for historical data \"Getmeasure\" (https://dev.netatmo.com/resources/technical/reference/common/getmeasure) for one station first. To do this you need both the station and the module ID from the station dictionary. Note that the full=True statement is important because the Netatmo request will give you 1024 rows by default. The patatmo Python API allows you to collect all the data by sending multiple requests per station. https://nobodyinperson.gitlab.io/python3-patatmo/api/patatmo.api.html#module-patatmo.api.requests"
      ]
    },
    {
      "cell_type": "code",
      "metadata": {
        "id": "RWliXSCo4l2m",
        "colab_type": "code",
        "colab": {}
      },
      "source": [
        "startDate = datetime.datetime(2019, 7, 10, 0, 0, 0, 0, tzinfo=datetime.timezone.utc).strftime(\"%s\")\n",
        "endDate =  datetime.datetime(2019, 7, 12, 0, 0, 0, 0, tzinfo=datetime.timezone.utc).strftime(\"%s\")\n",
        "device_id = stations[0][\"_id\"]\n",
        "module_id = tuple(stations[0][\"measures\"].keys())[0]\n",
        "\n",
        "test = client.Getmeasure(device_id=device_id,\n",
        "                       module_id=module_id,\n",
        "                       type=['Temperature'],\n",
        "                       scale='1hour',\n",
        "                       date_begin=startDate,\n",
        "                       date_end=endDate).dataframe()\n",
        "test"
      ],
      "execution_count": 0,
      "outputs": []
    },
    {
      "cell_type": "markdown",
      "metadata": {
        "id": "1_Gg2dNANy3D",
        "colab_type": "text"
      },
      "source": [
        "Now loop through all stations and export to CSV. Important to note that the Netatmo servers have a usage limit: 500 requests per hour per client. So you have to incorporate a sleep time into the loop so that you do not reach the limit. Difficult to get the optimal sleep time to maximize speed but prevent usage limit errors."
      ]
    },
    {
      "cell_type": "markdown",
      "metadata": {
        "id": "CZxMQ2ciaLOy",
        "colab_type": "text"
      },
      "source": [
        "\n",
        "\n",
        "At the moment there are three types of errors:\n",
        "    \n",
        "\n",
        "*    InternalServer Error - don't know what is causing that\n",
        "*   ApiResponseError: User usage reached - I think this is because of user quota limit exceeded.\n",
        "*   another error I can't remember name but has to do with incorrect 'module_ID'\n",
        "\n",
        "\n",
        "In another version of this script I have work arounds for some of these errors but it is not elegant and I need to clean up the code before I should share it.\n"
      ]
    },
    {
      "cell_type": "code",
      "metadata": {
        "id": "MqyyzuGMCOVI",
        "colab_type": "code",
        "colab": {}
      },
      "source": [
        "# Define start and end date for collection\n",
        "beginning = datetime.datetime(2018, 12, 30, 0, 0, 0, 0, tzinfo=datetime.timezone.utc).strftime(\"%s\")\n",
        "end = datetime.datetime(2019, 1, 1, 0, 0, 0, 0, tzinfo=datetime.timezone.utc).strftime(\"%s\")\n",
        "\n",
        "\n",
        "dfNetatmo = pd.DataFrame()\n",
        "for x in range(0,len(stations)):\n",
        "  errorcount = 0\n",
        "  while True:\n",
        "    try:\n",
        "      sleep(10) # need to play around with this to get optimal sleep time\n",
        "      lat = stations[x][\"place\"][\"location\"][1]\n",
        "      lon = stations[x][\"place\"][\"location\"][0]\n",
        "      device_id = stations[x][\"_id\"]\n",
        "      module_id = tuple(stations[x][\"measures\"].keys())[0]\n",
        "      index = x\n",
        "\n",
        "\n",
        "\n",
        "      payload = client.Getmeasure(device_id=device_id,module_id=module_id,\n",
        "                                  type=['Temperature'],\n",
        "                                  scale='1hour',\n",
        "                                  date_begin=beginning,\n",
        "                                  date_end=end).dataframe()\n",
        "\n",
        "\n",
        "      while payload is None:\n",
        "        print('waiting for payload') # sometimes the request to Netatmo servers fails on first attempt\n",
        "        sleep(5)\n",
        "      print(x)\n",
        "\n",
        "      payload['ID'] = device_id\n",
        "      payload['index'] = index\n",
        "      payload['Lat'] = lat\n",
        "      payload['Lon'] = lon\n",
        "      dfNetatmo = dfNetatmo.append(payload)\n",
        "      \n",
        "      break\n",
        "      \n",
        "    except BaseException as e:\n",
        "      print('Error!!')\n",
        "      errorcount = errorcount + 1\n",
        "      print(errorcount)\n",
        "      sleep(30)\n",
        "      if (errorcount <3): # skip station if more than three errors\n",
        "        continue\n",
        "      else:\n",
        "        break\n"
      ],
      "execution_count": 0,
      "outputs": []
    },
    {
      "cell_type": "markdown",
      "metadata": {
        "id": "fYpBW4FKXPEQ",
        "colab_type": "text"
      },
      "source": [
        "Inspect dataframe"
      ]
    },
    {
      "cell_type": "code",
      "metadata": {
        "id": "qJNkKqiOvzww",
        "colab_type": "code",
        "colab": {}
      },
      "source": [
        "dfNetatmo"
      ],
      "execution_count": 0,
      "outputs": []
    },
    {
      "cell_type": "markdown",
      "metadata": {
        "id": "FeqVQDKqXGjo",
        "colab_type": "text"
      },
      "source": [
        "Export to Drive"
      ]
    },
    {
      "cell_type": "code",
      "metadata": {
        "id": "C8V98Y6_DX5U",
        "colab_type": "code",
        "colab": {}
      },
      "source": [
        "\n",
        "fileName = 'netatmo_output.csv'\n",
        "dfNetatmo.to_csv(fileName)\n",
        "\n",
        "#!cp netatmo_output.csv drive/My\\ Drive/"
      ],
      "execution_count": 0,
      "outputs": []
    }
  ]
}
